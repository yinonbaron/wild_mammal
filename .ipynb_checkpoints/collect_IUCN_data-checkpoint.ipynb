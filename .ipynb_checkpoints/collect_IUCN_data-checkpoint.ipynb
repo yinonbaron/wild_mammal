{
 "cells": [
  {
   "cell_type": "code",
   "execution_count": 9,
   "metadata": {},
   "outputs": [],
   "source": [
    "from lxml import html\n",
    "import requests\n",
    "from bs4 import BeautifulSoup as bs"
   ]
  },
  {
   "cell_type": "code",
   "execution_count": 15,
   "metadata": {},
   "outputs": [],
   "source": [
    "\n",
    "\n",
    "page = requests.get('http://www.iucnredlist.org/details/12392/')\n",
    "tree = html.fromstring(page.content)\n",
    "soup = bs(page.content, 'html.parser')"
   ]
  },
  {
   "cell_type": "code",
   "execution_count": 46,
   "metadata": {},
   "outputs": [
    {
     "name": "stdout",
     "output_type": "stream",
     "text": [
      "Although elephant populations may at present be declining in parts of their range, major populations in Eastern and Southern Africa, accounting for over two thirds of all known elephants on the continent, have been surveyed, and are currently increasing at an average annual rate of 4.0% per annum (Blanc et al. 2005, 2007). As a result, more than 15,000 elephants are estimated to have been recruited into the population in 2006 and, if current rates of increase continue, the number of elephants born in these populations between 2005 and 2010 will be larger than the currently estimated total number of elephants in Central and West Africa combined. In other words, the magnitude of ongoing increases in Southern and Eastern Africa are likely to outweigh the magnitude of any likely declines in the other two regions.\n",
      "\n",
      "    For further information about this species,\n",
      "    see 12392_Loxodonta_africana.pdf.\n",
      "  \n",
      "\n",
      "    A PDF viewer such as\n",
      "    Adobe Reader\n",
      "    is required.\n",
      "  \n",
      "\n",
      "\n"
     ]
    }
   ],
   "source": [
    "r = tree.xpath('//div[@id=\"data_factsheet\"]')\n",
    "for x in soup.find('div',id='data_factsheet').find_all('td', class_='label'):\n",
    "    if x.get_text()== 'Population:':\n",
    "        print(x.parent.find_all('td')[-1].get_text())"
   ]
  }
 ],
 "metadata": {
  "kernelspec": {
   "display_name": "Python 3",
   "language": "python",
   "name": "python3"
  },
  "language_info": {
   "codemirror_mode": {
    "name": "ipython",
    "version": 3
   },
   "file_extension": ".py",
   "mimetype": "text/x-python",
   "name": "python",
   "nbconvert_exporter": "python",
   "pygments_lexer": "ipython3",
   "version": "3.6.5"
  }
 },
 "nbformat": 4,
 "nbformat_minor": 2
}
