{
 "cells": [
  {
   "cell_type": "code",
   "execution_count": 52,
   "metadata": {},
   "outputs": [],
   "source": [
    "from lxml import html\n",
    "import requests\n",
    "from bs4 import BeautifulSoup as bs\n",
    "import pandas as pd"
   ]
  },
  {
   "cell_type": "code",
   "execution_count": 59,
   "metadata": {},
   "outputs": [],
   "source": [
    "page = requests.get('http://www.iucnredlist.org/details/12392')\n",
    "tree = html.fromstring(page.content)\n",
    "soup = bs(page.content, 'html.parser')"
   ]
  },
  {
   "cell_type": "code",
   "execution_count": 138,
   "metadata": {},
   "outputs": [],
   "source": [
    "def get_population(page):\n",
    "    for x in page.find('div',id='data_factsheet').find_all('td', class_='label'):\n",
    "        if x.get_text()== 'Population:':\n",
    "            return (x.parent.find_all('td')[-1].get_text())\n",
    "        \n",
    "def get_assessment(page):\n",
    "    for x in page.find('div',id='data_factsheet').find_all('strong'):\n",
    "        if x.get_text() == 'Justification:':\n",
    "            return x.next_sibling.next_sibling"
   ]
  },
  {
   "cell_type": "code",
   "execution_count": 61,
   "metadata": {},
   "outputs": [
    {
     "data": {
      "text/plain": [
       "'Although elephant populations may at present be declining in parts of their range, major populations in Eastern and Southern Africa, accounting for over two thirds of all known elephants on the continent, have been surveyed, and are currently increasing at an average annual rate of 4.0% per annum (Blanc et al. 2005, 2007). As a result, more than 15,000 elephants are estimated to have been recruited into the population in 2006 and, if current rates of increase continue, the number of elephants born in these populations between 2005 and 2010 will be larger than the currently estimated total number of elephants in Central and West Africa combined. In other words, the magnitude of ongoing increases in Southern and Eastern Africa are likely to outweigh the magnitude of any likely declines in the other two regions.\\n\\n    For further information about this species,\\n    see 12392_Loxodonta_africana.pdf.\\n  \\n\\n    A PDF viewer such as\\n    Adobe Reader\\n    is required.\\n  \\n\\n'"
      ]
     },
     "execution_count": 61,
     "metadata": {},
     "output_type": "execute_result"
    }
   ],
   "source": [
    "get_population(soup)"
   ]
  },
  {
   "cell_type": "code",
   "execution_count": 143,
   "metadata": {},
   "outputs": [],
   "source": [
    "data = pd.read_excel('mammalis IUCN July 2018.xlsx')\n",
    "for ID in data['Species ID']:\n",
    "    page = requests.get('http://www.iucnredlist.org/details/' + str(ID))\n",
    "    soup = bs(page.content, 'html.parser')\n",
    "    data.loc[data['Species ID'] == ID,'Population data'] = get_population(soup)\n",
    "    data.loc[data['Species ID'] == ID,'Assessment data'] = get_assessment(soup)\n",
    "    "
   ]
  },
  {
   "cell_type": "code",
   "execution_count": 142,
   "metadata": {},
   "outputs": [
    {
     "data": {
      "text/plain": [
       "<Response [200]>"
      ]
     },
     "execution_count": 142,
     "metadata": {},
     "output_type": "execute_result"
    }
   ],
   "source": []
  },
  {
   "cell_type": "code",
   "execution_count": 144,
   "metadata": {},
   "outputs": [],
   "source": [
    "data['Population has numbers'] = ~pd.isnull(data['Population data'].str.extract(r'(\\d+)'))\n"
   ]
  },
  {
   "cell_type": "code",
   "execution_count": 145,
   "metadata": {},
   "outputs": [],
   "source": [
    "data['Population data length'] = data['Population data'].apply(lambda x: 0 if x is None else len(x))\n",
    "data['Assessment data length'] = data['Assessment data'].apply(lambda x: 0 if x is None else len(x))"
   ]
  },
  {
   "cell_type": "code",
   "execution_count": 146,
   "metadata": {},
   "outputs": [],
   "source": [
    "data.to_excel('IUCN_data_with_populations_and_assessment.xlsx')"
   ]
  },
  {
   "cell_type": "code",
   "execution_count": 148,
   "metadata": {},
   "outputs": [
    {
     "data": {
      "text/plain": [
       "Index(['MSW05_Order', 'MSW05_Family', 'MSW05_Genus', 'MSW05_Species',\n",
       "       'MSW05_Binomial', '1-1_ActivityCycle', '5-1_AdultBodyMass_g',\n",
       "       '8-1_AdultForearmLen_mm', '13-1_AdultHeadBodyLen_mm',\n",
       "       '2-1_AgeatEyeOpening_d', '3-1_AgeatFirstBirth_d',\n",
       "       '18-1_BasalMetRate_mLO2hr', '5-2_BasalMetRateMass_g', '6-1_DietBreadth',\n",
       "       '7-1_DispersalAge_d', '9-1_GestationLen_d', '12-1_HabitatBreadth',\n",
       "       '22-1_HomeRange_km2', '22-2_HomeRange_Indiv_km2',\n",
       "       '14-1_InterbirthInterval_d', '15-1_LitterSize', '16-1_LittersPerYear',\n",
       "       '17-1_MaxLongevity_m', '5-3_NeonateBodyMass_g',\n",
       "       '13-2_NeonateHeadBodyLen_mm', '21-1_PopulationDensity_n/km2',\n",
       "       '10-1_PopulationGrpSize', '23-1_SexualMaturityAge_d',\n",
       "       '10-2_SocialGrpSize', '24-1_TeatNumber', '12-2_Terrestriality',\n",
       "       '6-2_TrophicLevel', '25-1_WeaningAge_d', '5-4_WeaningBodyMass_g',\n",
       "       '13-3_WeaningHeadBodyLen_mm', 'References', '5-5_AdultBodyMass_g_EXT',\n",
       "       '16-2_LittersPerYear_EXT', '5-6_NeonateBodyMass_g_EXT',\n",
       "       '5-7_WeaningBodyMass_g_EXT', '26-1_GR_Area_km2', '26-2_GR_MaxLat_dd',\n",
       "       '26-3_GR_MinLat_dd', '26-4_GR_MidRangeLat_dd', '26-5_GR_MaxLong_dd',\n",
       "       '26-6_GR_MinLong_dd', '26-7_GR_MidRangeLong_dd',\n",
       "       '27-1_HuPopDen_Min_n/km2', '27-2_HuPopDen_Mean_n/km2',\n",
       "       '27-3_HuPopDen_5p_n/km2', '27-4_HuPopDen_Change', '28-1_Precip_Mean_mm',\n",
       "       '28-2_Temp_Mean_01degC', '30-1_AET_Mean_mm', '30-2_PET_Mean_mm'],\n",
       "      dtype='object')"
      ]
     },
     "execution_count": 148,
     "metadata": {},
     "output_type": "execute_result"
    }
   ],
   "source": [
    "pantheria_data = pd.read_csv('PanTHERIA_1-0_WR05_Aug2008.csv',sep='\\t')\n",
    "pantheria_data.columns"
   ]
  },
  {
   "cell_type": "code",
   "execution_count": 150,
   "metadata": {},
   "outputs": [
    {
     "data": {
      "text/plain": [
       "Index(['Class', 'Order', 'Family', 'Genus', 'Species', 'Subspecies',\n",
       "       'Longitude', 'Latitude', 'Locality', 'Country', 'Year', 'Season/Month',\n",
       "       'Habitat', 'Sampling_Area', 'Sampling_Area_unit', 'Density',\n",
       "       'Density_unit', 'Sampling_Method', 'Method_info', 'Notes', 'Ref_N'],\n",
       "      dtype='object')"
      ]
     },
     "execution_count": 150,
     "metadata": {},
     "output_type": "execute_result"
    }
   ],
   "source": [
    "tetra = pd.read_excel('tetraDensity.xls')\n",
    "tetra.columns"
   ]
  }
 ],
 "metadata": {
  "kernelspec": {
   "display_name": "Python 3",
   "language": "python",
   "name": "python3"
  },
  "language_info": {
   "codemirror_mode": {
    "name": "ipython",
    "version": 3
   },
   "file_extension": ".py",
   "mimetype": "text/x-python",
   "name": "python",
   "nbconvert_exporter": "python",
   "pygments_lexer": "ipython3",
   "version": "3.6.5"
  }
 },
 "nbformat": 4,
 "nbformat_minor": 2
}
